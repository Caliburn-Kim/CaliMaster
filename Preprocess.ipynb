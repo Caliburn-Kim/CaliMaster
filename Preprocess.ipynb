{
 "cells": [
  {
   "cell_type": "code",
   "execution_count": 4,
   "metadata": {},
   "outputs": [],
   "source": [
    "from cklib.preprocessing import Dataset\n",
    "\n",
    "dataset_path = './bin/iscx2017.csv'\n",
    "seed = 22"
   ]
  },
  {
   "cell_type": "code",
   "execution_count": 5,
   "metadata": {
    "tags": []
   },
   "outputs": [
    {
     "output_type": "stream",
     "name": "stdout",
     "text": "[2020-09-04 03:23:39] Reading dataset: ./bin/iscx2017.csv\n[2020-09-04 03:24:18] Skip data: ['Heartbleed', 'Infiltration', 'Web Attack \\x96 XSS', 'Web Attack \\x96 Sql Injection']\n[2020-09-04 03:24:51] ---> Done (72.0664 seconds)\n\n[2020-09-04 03:24:51] Shuffling dataset by flows\n[2020-09-04 03:25:04] ---> Done (12.8030 seconds)\n\n[2020-09-04 03:25:04] Creating training & test dataset\n[2020-09-04 03:25:14] ---> Done (10.1999 seconds)\n\n"
    },
    {
     "output_type": "execute_result",
     "data": {
      "text/plain": "'<Function: read & shuffling csv>'"
     },
     "metadata": {},
     "execution_count": 5
    }
   ],
   "source": [
    "split_data = Dataset.PacketSplit(random_state = seed)\n",
    "split_data.skip_data('Heartbleed', 'Infiltration', u'Web Attack \\x96 XSS', u'Web Attack \\x96 Sql Injection')\n",
    "split_data.read_csv(path = dataset_path)"
   ]
  },
  {
   "cell_type": "code",
   "execution_count": 6,
   "metadata": {
    "tags": []
   },
   "outputs": [
    {
     "output_type": "stream",
     "name": "stdout",
     "text": "[2020-09-04 03:25:20] Writing session dataset at ./bin/\n[2020-09-04 03:29:23] ---> Done (243.3150 seconds)\n"
    },
    {
     "output_type": "execute_result",
     "data": {
      "text/plain": "'<Function: save dataset>'"
     },
     "metadata": {},
     "execution_count": 6
    }
   ],
   "source": [
    "split_data.save(master_path = './bin/', name = 'iscx2017')"
   ]
  }
 ],
 "metadata": {
  "kernelspec": {
   "display_name": "Python 3",
   "language": "python",
   "name": "python3"
  },
  "language_info": {
   "codemirror_mode": {
    "name": "ipython",
    "version": 3
   },
   "file_extension": ".py",
   "mimetype": "text/x-python",
   "name": "python",
   "nbconvert_exporter": "python",
   "pygments_lexer": "ipython3",
   "version": "3.7.7-final"
  }
 },
 "nbformat": 4,
 "nbformat_minor": 4
}