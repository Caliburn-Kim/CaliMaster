{
 "cells": [
  {
   "cell_type": "code",
   "execution_count": 1,
   "metadata": {},
   "outputs": [],
   "source": [
    "from cklib.preprocessing import Dataset\n",
    "\n",
    "dataset_path = './bin/iscx2017.csv'\n",
    "seed = 22"
   ]
  },
  {
   "cell_type": "code",
   "execution_count": 2,
   "metadata": {},
   "outputs": [
    {
     "name": "stdout",
     "output_type": "stream",
     "text": [
      "[2020-09-01 15:05:05] Reading dataset: ./bin/iscx2017.csv\n",
      "[2020-09-01 15:06:42] Skip data: ['Heartbleed', 'Infiltration', 'Web Attack \\x96 XSS', 'Web Attack \\x96 Sql Injection']\n",
      "[2020-09-01 15:07:57] ---> Done (171.9307 seconds)\n",
      "\n",
      "[2020-09-01 15:07:57] Shuffling dataset by flows\n",
      "[2020-09-01 15:08:22] ---> Done (24.8341 seconds)\n",
      "\n",
      "[2020-09-01 15:08:22] Creating training & test dataset\n",
      "[2020-09-01 15:08:37] ---> Done (15.2406 seconds)\n",
      "\n"
     ]
    },
    {
     "data": {
      "text/plain": [
       "'<Function: read & shuffling csv>'"
      ]
     },
     "execution_count": 2,
     "metadata": {},
     "output_type": "execute_result"
    }
   ],
   "source": [
    "split_data = Dataset.PacketSplit(random_state = seed)\n",
    "split_data.skip_data('Heartbleed', 'Infiltration', u'Web Attack \\x96 XSS', u'Web Attack \\x96 Sql Injection')\n",
    "split_data.read_csv(path = dataset_path)"
   ]
  },
  {
   "cell_type": "code",
   "execution_count": 3,
   "metadata": {},
   "outputs": [
    {
     "name": "stdout",
     "output_type": "stream",
     "text": [
      "[2020-09-01 15:08:45] Writing session dataset at ./bin/\n",
      "[2020-09-01 15:15:47] ---> Done (422.2341 seconds)\n"
     ]
    },
    {
     "data": {
      "text/plain": [
       "'<Function: save dataset>'"
      ]
     },
     "execution_count": 3,
     "metadata": {},
     "output_type": "execute_result"
    }
   ],
   "source": [
    "split_data.save(master_path = './bin/', name = 'iscx2017')"
   ]
  }
 ],
 "metadata": {
  "kernelspec": {
   "display_name": "Python 3",
   "language": "python",
   "name": "python3"
  },
  "language_info": {
   "codemirror_mode": {
    "name": "ipython",
    "version": 3
   },
   "file_extension": ".py",
   "mimetype": "text/x-python",
   "name": "python",
   "nbconvert_exporter": "python",
   "pygments_lexer": "ipython3",
   "version": "3.6.9"
  }
 },
 "nbformat": 4,
 "nbformat_minor": 4
}
