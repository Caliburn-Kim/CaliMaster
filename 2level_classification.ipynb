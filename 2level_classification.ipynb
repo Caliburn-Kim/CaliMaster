{
 "cells": [
  {
   "cell_type": "code",
   "execution_count": 1,
   "metadata": {},
   "outputs": [],
   "source": [
    "from __future__ import print_function\n",
    "\n",
    "import cklib\n",
    "from cklib import ckconst\n",
    "from cklib.ckstd import fprint\n",
    "from cklib import ckstd\n",
    "from cklib import DataFrame\n",
    "import joblib\n",
    "import gc\n",
    "\n",
    "from sklearn.metrics import classification_report\n",
    "from sklearn.metrics import confusion_matrix\n",
    "\n",
    "seed = 22\n",
    "\n",
    "root = './bin/'\n",
    "ext = '.csv'\n",
    "path = ['iscx2017_pkt_train', 'iscx2017_pkt_test', 'iscx2017_sess_train', 'iscx2017_sess_test']"
   ]
  },
  {
   "cell_type": "code",
   "execution_count": 2,
   "metadata": {},
   "outputs": [
    {
     "name": "stdout",
     "output_type": "stream",
     "text": [
      "[2020-09-01 16:19:11] Reading dataset\n",
      "[2020-09-01 16:21:00] ---> Done (108.6537 seconds)\n",
      "\n",
      "[2020-09-01 16:21:00] Training label encoder and scaler\n",
      "[2020-09-01 16:21:13] ---> Done (12.8842 seconds)\n",
      "\n",
      "[2020-09-01 16:21:13] Training random forest model\n",
      "[2020-09-01 16:24:28] ---> Done (194.6924 seconds)\n",
      "[2020-09-01 16:24:28] Predict session training dataset\n",
      "[2020-09-01 16:24:31] Session training dataset predict time: 3.2556955679901876 seconds\n",
      "[2020-09-01 16:24:31] Predict session test dataset\n",
      "[2020-09-01 16:24:34] Session test dataset predict time: 3.100465447001625 seconds\n",
      "[2020-09-01 16:24:38] Predict packet training dataset\n",
      "[2020-09-01 16:25:48] Packet training dataset predict time: 32.67785268399166 seconds\n",
      "[2020-09-01 16:25:48] Predict packet test dataset\n",
      "[2020-09-01 16:26:27] Packet test dataset predict time: 18.333625274011865 seconds\n",
      "[2020-09-01 16:26:27] Processing of predict part is finished (119.24176304799039 seconds)\n"
     ]
    },
    {
     "data": {
      "text/plain": [
       "'<Function: predict>'"
      ]
     },
     "execution_count": 2,
     "metadata": {},
     "output_type": "execute_result"
    }
   ],
   "source": [
    "dataframe = DataFrame.Flow_Dataset(random_state = seed)\n",
    "dataframe.read_csv(\n",
    "    ptrain_path = root + path[0] + ext,\n",
    "    ptest_path = root + path[1] + ext,\n",
    "    strain_path = root + path[2] + ext,\n",
    "    stest_path = root + path[3] + ext\n",
    ")\n",
    "dataframe.modelling()\n",
    "dataframe.predict()"
   ]
  },
  {
   "cell_type": "code",
   "execution_count": null,
   "metadata": {},
   "outputs": [],
   "source": []
  }
 ],
 "metadata": {
  "kernelspec": {
   "display_name": "Python 3",
   "language": "python",
   "name": "python3"
  },
  "language_info": {
   "codemirror_mode": {
    "name": "ipython",
    "version": 3
   },
   "file_extension": ".py",
   "mimetype": "text/x-python",
   "name": "python",
   "nbconvert_exporter": "python",
   "pygments_lexer": "ipython3",
   "version": "3.6.9"
  }
 },
 "nbformat": 4,
 "nbformat_minor": 4
}
