{
 "cells": [
  {
   "cell_type": "code",
   "execution_count": 1,
   "metadata": {},
   "outputs": [],
   "source": [
    "from __future__ import print_function\n",
    "\n",
    "import joblib\n",
    "import gc\n",
    "\n",
    "from sklearn.metrics import classification_report\n",
    "from sklearn.metrics import confusion_matrix\n",
    "\n",
    "import cklib\n",
    "from cklib import ckconst\n",
    "from cklib.ckstd import fprint\n",
    "from cklib import ckstd\n",
    "from cklib import DataFrame\n",
    "from cklib.ckmachine import PacketMachine\n",
    "from cklib.Threshold import HighThreshold\n",
    "\n",
    "seed = 22\n",
    "root = './bin/'\n",
    "ext = '.csv'\n",
    "path = ['iscx2017_pkt_train', 'iscx2017_pkt_test', 'iscx2017_sess_train', 'iscx2017_sess_test']"
   ]
  },
  {
   "cell_type": "code",
   "execution_count": 2,
   "metadata": {
    "tags": []
   },
   "outputs": [
    {
     "output_type": "stream",
     "name": "stdout",
     "text": "[2020-09-04 20:36:12] Reading dataset\n[2020-09-04 20:37:16] ---> Done (63.7028 seconds)\n\n[2020-09-04 20:37:16] Training label encoder and scaler\n[2020-09-04 20:37:26] ---> Done (9.8476 seconds)\n\n[2020-09-04 20:37:26] Training random forest model\n[2020-09-04 20:44:30] ---> Done (424.6492 seconds)\n[2020-09-04 20:44:30] Predict session training dataset\n[2020-09-04 20:44:34] Session training dataset predict time: 3.3270472889998928 seconds\n[2020-09-04 20:44:34] Predict session test dataset\n[2020-09-04 20:44:37] Session test dataset predict time: 3.31007398100337 seconds\n[2020-09-04 20:44:42] Predict packet training dataset\n[2020-09-04 20:45:56] Packet training dataset predict time: 34.65549365300103 seconds\n[2020-09-04 20:45:56] Predict packet test dataset\n[2020-09-04 20:46:36] Packet test dataset predict time: 19.29983525899297 seconds\n[2020-09-04 20:46:36] Processing of predict part is finished (126.0103766520042 seconds)\n"
    },
    {
     "output_type": "execute_result",
     "data": {
      "text/plain": "48"
     },
     "metadata": {},
     "execution_count": 2
    }
   ],
   "source": [
    "dataframe = DataFrame.Flow_Dataset(random_state = seed)\n",
    "dataframe.read_csv(\n",
    "    ptrain_path = root + path[0] + ext,\n",
    "    ptest_path = root + path[1] + ext,\n",
    "    strain_path = root + path[2] + ext,\n",
    "    stest_path = root + path[3] + ext\n",
    ")\n",
    "dataframe.modelling()\n",
    "dataframe.predict()\n",
    "\n",
    "label_encoder = dataframe.getLabelEncoder()\n",
    "train_ppred, train_spred = dataframe.getTrainPred()\n",
    "train_pprob, train_sprob = dataframe.getTrainProb()\n",
    "test_ppred, test_spred = dataframe.getTestPred()\n",
    "test_pprob, test_sprob = dataframe.getTestProb()\n",
    "train_true = label_encoder.transform(dataframe.getTrainLabel())\n",
    "test_true = label_encoder.transform(dataframe.getTestLabel())\n",
    "train_flows = dataframe.getTrainFlow()\n",
    "test_flows = dataframe.getTestFlow()\n",
    "train_duration = dataframe.getTrainDuration()\n",
    "test_duration = dataframe.getTestDuration()\n",
    "train_fin_count = dataframe.getTrainFin()\n",
    "test_fin_count = dataframe.getTestFin()\n",
    "train_protocol = dataframe.getTrainProtocol()\n",
    "test_protocol = dataframe.getTestProtocol()\n",
    "train_pmean, train_smean = dataframe.getTrainMean()\n",
    "test_pmean, test_smean = dataframe.getTestMean()\n",
    "\n",
    "dataframe = None\n",
    "del dataframe\n",
    "gc.collect()"
   ]
  },
  {
   "cell_type": "code",
   "execution_count": 27,
   "metadata": {
    "tags": []
   },
   "outputs": [
    {
     "output_type": "stream",
     "name": "stdout",
     "text": "[2020-09-04 21:31:49] Initializing compilte\n[2020-09-04 21:31:49] Start getting f1-scores\n[2020-09-04 21:33:24] ---> Done (94.7881 sec)\n"
    },
    {
     "output_type": "execute_result",
     "data": {
      "text/plain": "'<Function calculating f1-scores>'"
     },
     "metadata": {},
     "execution_count": 27
    }
   ],
   "source": [
    "ckstd.reload(HighThreshold)\n",
    "hth = HighThreshold.StaticThreshold()\n",
    "hth.initializing(\n",
    "    ppreds = train_ppred,\n",
    "    pprobs = train_pprob,\n",
    "    spreds = train_spred,\n",
    "    flows = train_flows,\n",
    "    classes = label_encoder.transform(label_encoder.classes_),\n",
    "    y_true = train_true,\n",
    "    start = 0.9,\n",
    "    end = 1.0\n",
    ")\n",
    "hth.calculate()"
   ]
  },
  {
   "cell_type": "code",
   "execution_count": 32,
   "metadata": {
    "tags": []
   },
   "outputs": [
    {
     "output_type": "stream",
     "name": "stdout",
     "text": "[2020-09-04 21:42:40] Omega: 0.0001 --> [F1-Score: [0.98183267 0.98184394 0.98184394 0.98184566 0.98189453 0.98189508]] [Threshold: [0.995 0.996 0.997 0.998 0.999 1.   ]]\n"
    }
   ],
   "source": [
    "threshold = hth.getThreshold(omega = 0.0001)[0]\n",
    "\n",
    "hth = None\n",
    "del hth\n",
    "gc.collect()"
   ]
  },
  {
   "cell_type": "code",
   "execution_count": null,
   "metadata": {},
   "outputs": [],
   "source": [
    "pm = PacketMachine(random_state = seed)\n",
    "\n",
    "pm.initalizing(\n",
    "    ppreds = train_ppred,\n",
    "    pprobs = train_pprob,\n",
    "    spreds = train_spred,\n",
    "    flows = train_flows,\n",
    "    classes = label_encoder.transform(label_encoder.classes_),\n",
    "    y_true = train_true,\n",
    "    duration = train_duration,\n",
    "    protocol = train_protocol,\n",
    "    fin_count = train_fin_count,\n",
    "    ptime_mean = train_pmean,\n",
    "    stime_mean = train_smean\n",
    ")\n",
    "\n",
    "report = pm.classifying(h_threshold = threshold)"
   ]
  }
 ],
 "metadata": {
  "kernelspec": {
   "display_name": "Python 3",
   "language": "python",
   "name": "python3"
  },
  "language_info": {
   "codemirror_mode": {
    "name": "ipython",
    "version": 3
   },
   "file_extension": ".py",
   "mimetype": "text/x-python",
   "name": "python",
   "nbconvert_exporter": "python",
   "pygments_lexer": "ipython3",
   "version": "3.7.7-final"
  }
 },
 "nbformat": 4,
 "nbformat_minor": 4
}